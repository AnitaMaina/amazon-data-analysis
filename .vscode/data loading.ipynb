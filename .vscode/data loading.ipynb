

from sqlalchemy import create_engine

# Database connection details
db_user = "root"
db_password = "COMPLETE2001"
db_host = "localhost"
db_name = "ecommerce_db"

# Create a connection to MySQL
engine = create_engine(f"mysql+pymysql://{db_user}:{db_password}@{db_host}/{db_name}")

# Insert data into MySQL
df.to_sql(name='products', con=engine, if_exists='replace', index=False)

print("Data successfully loaded into MySQL!")


