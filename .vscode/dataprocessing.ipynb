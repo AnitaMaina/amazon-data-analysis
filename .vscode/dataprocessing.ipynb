
import pandas as pd
# 1. Load the Dataset
try:
    df = pd.read_csv("amazon.csv")
except FileNotFoundError:
    print("Error: amazon.csv file not found. Please make sure the file is in the correct directory.")
    exit()  # Stop execution if the file is not found

# Display the first few rows
print("First few rows of the dataset:")
print(df.head())

# Understand the data structure
print("\nDataset info:")
print(df.info())

# Check for missing values
print("\nMissing values per column:")
print(df.isnull().sum())

# Handle missing values (example: fill with mean/mode or drop rows)

# Example 1: Fill numerical missing values with the mean
# Assuming 'your_numerical_column' is a numerical column with missing values.
# If you don't have numerical columns, remove this section.
if 'price' in df.columns:
    df['price'].fillna(df['price'].mean(), inplace=True)
    print("\nMissing values after numerical imputation (price):")
    print(df.isnull().sum())

# Example 2: Fill categorical missing values with the most frequent value (mode)
# Assuming 'your_categorical_column' is a categorical column with missing values.
# Change 'product_name' if needed.
if 'product_name' in df.columns:
    df['product_name'].fillna(df['product_name'].mode()[0], inplace=True)
    print("\nMissing values after categorical imputation (product_name):")
    print(df.isnull().sum())
#Example 3: Drop rows with missing values. Useful if there are only a few missing rows.
#df.dropna(inplace=True)
#print("\nMissing values after dropping rows with missing values:")
#print(df.isnull().sum())

# Example 4: Fill missing rating values with 0.
if 'rating' in df.columns:
    df['rating'].fillna(0, inplace=True)
    print("\nMissing values after rating imputation (rating):")
    print(df.isnull().sum())

# Example 5: Fill missing users_reviewed values with 0.
if 'users_reviewed' in df.columns:
    df['users_reviewed'].fillna(0, inplace=True)
    print("\nMissing values after users_reviewed imputation (users_reviewed):")
    print(df.isnull().sum())
    



 