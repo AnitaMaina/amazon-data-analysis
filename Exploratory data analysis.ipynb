

import pandas as pd
import matplotlib.pyplot as plt
import seaborn as sns

# 1. Load the Dataset
df = pd.read_csv('amazon.csv')

# Basic Data Understanding
print("First few rows:\n", df.head())
print("\nData Info:\n", df.info())
print("\nMissing Values:\n", df.isnull().sum())

# 2. Data Cleaning
df['discounted_price'] = df['discounted_price'].str.replace('₹', '').str.replace(',', '', regex=False).astype(float)
df['actual_price'] = df['actual_price'].str.replace('₹', '').str.replace(',', '', regex=False).astype(float)
df['rating_count'] = df['rating_count'].str.replace(',', '', regex=False).fillna('0').astype(int)
df['category'] = df['category'].str.split('|').str[0]
df['rating'] = pd.to_numeric(df['rating'], errors='coerce') #convert rating to numeric, handle errors
df['discount_percentage'] = df['discount_percentage'].str.replace('%','', regex = False).astype(float)

# 3. Data Transformation
df['discount_amount'] = df['actual_price'] - df['discounted_price']

# 6. Exploratory Data Analysis (EDA)
# Distribution of Ratings
plt.figure(figsize=(10, 6))
sns.histplot(df['rating'].dropna(), bins=30, kde=True, color='skyblue')
plt.title('Distribution of Product Ratings')
plt.xlabel('Rating')
plt.ylabel('Frequency')
plt.grid(axis='y', linestyle='--', alpha=0.7)
plt.show()

# Correlation between discount_percentage and rating
correlation_rating_discount = df[['discount_percentage', 'rating']].corr()
print("Correlation between Discount Percentage and Rating:\n", correlation_rating_discount)

plt.figure(figsize=(8, 6))
sns.scatterplot(x='discount_percentage', y='rating', data=df, alpha=0.7, color='coral')
plt.title('Scatter Plot: Discount Percentage vs. Rating')
plt.xlabel('Discount Percentage (%)')
plt.ylabel('Rating')
plt.grid(True, linestyle='--', alpha=0.5)
plt.show()

# Top-Selling Product Categories
top_categories = df['category'].value_counts().head(10)
print("Top 10 Selling Product Categories:\n", top_categories)

plt.figure(figsize=(12, 6))
sns.barplot(x=top_categories.index, y=top_categories.values, palette='viridis')
plt.title('Top 10 Selling Product Categories (Based on Rating Count)')
plt.xlabel('Category')
plt.ylabel('Number of Products')
plt.xticks(rotation=45, ha='right')
plt.tight_layout()
plt.show()

# Relationship between discount_amount and rating_count
plt.figure(figsize=(10, 6))
sns.scatterplot(x='discount_amount', y='rating_count', data=df, alpha=0.6, color='mediumpurple')
plt.title('Scatter Plot: Discount Amount vs. Rating Count')
plt.xlabel('Discount Amount (₹)')
plt.ylabel('Rating Count')
plt.grid(True, linestyle='--', alpha=0.5)
plt.show()

correlation_discount_ratingcount = df[['discount_amount', 'rating_count']].corr()
print("Correlation between Discount Amount and Rating Count:\n", correlation_discount_ratingcount)

# 7. Data Visualization (examples, expand to all needed visualizations)
# Top 10 Highest Rated Products (Bar Chart)
top_10_rated = df.nlargest(10, 'rating')
plt.figure(figsize=(12, 6))
sns.barplot(x='product_name', y='rating', data=top_10_rated, palette='plasma')
plt.title('Top 10 Highest Rated Products')
plt.xticks(rotation=45, ha='right')
plt.tight_layout()
plt.show()