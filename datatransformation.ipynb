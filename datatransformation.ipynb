import pandas as pd
import numpy as np

try:
    df = pd.read_csv("amazon.csv")
except FileNotFoundError:
    print("Error: amazon.csv file not found. Please make sure the file is in the correct directory.")
    exit()  # Stop execution if the file is not found

# 2. Data Cleaning

# Convert price-related columns to numerical format
def clean_price(price_str):
    if isinstance(price_str, str):
        price_str = price_str.replace('₹', '').replace(',', '').strip()
        try:
            return float(price_str)
        except ValueError:
            print(f"Warning: Could not convert '{price_str}' to float.") #print warning.
            return np.nan  # Handle cases where conversion fails
    elif isinstance(price_str, (int, float)): #if it is already an int or float, just return it.
        return float(price_str)
    else:
        return np.nan # if it is not a string, int or float, return nan.

if 'discounted_price' in df.columns:
    df['discounted_price'] = df['discounted_price'].apply(clean_price)

if 'actual_price' in df.columns:
    df['actual_price'] = df['actual_price'].apply(clean_price)

# 3. Data Transformation

# Check the data types before subtraction
print("Data types before discount calculation:")
print(df[['actual_price', 'discounted_price']].dtypes)

# Create a new column for discount_amount
if 'actual_price' in df.columns and 'discounted_price' in df.columns:
    df['discount_amount'] = df['actual_price'] - df['discounted_price']
else:
    print("Warning: 'actual_price' or 'discounted_price' columns not found. Discount amount not calculated.")

# Convert discount_percentage into a numeric value
def clean_discount_percentage(percentage_str):
    if isinstance(percentage_str, str):
        percentage_str = percentage_str.replace('%', '').strip()
        try:
            return float(percentage_str) / 100.0  # Convert to decimal
        except ValueError:
            return np.nan
    return percentage_str

if 'discount_percentage' in df.columns:
    df['discount_percentage'] = df['discount_percentage'].apply(clean_discount_percentage)

# Extract the year of reviews if a timestamp is present
def extract_review_year(review_str):
    if isinstance(review_str, str):
        try:
            return pd.to_datetime(review_str).year
        except ValueError:
            return np.nan
    return np.nan

if 'review_date' in df.columns:
    df['review_year'] = df['review_date'].apply(extract_review_year)
    print("\nReview years extracted:")
    print(df['review_year'].value_counts().head())
    
# Create the database
CREATE DATABASE IF NOT EXISTS ecommerce_db;
USE ecommerce_db;

#Create the products table
CREATE TABLE IF NOT EXISTS products (
    product_id VARCHAR(255) PRIMARY KEY,
    product_name TEXT,
    category VARCHAR(255),
    discounted_price DECIMAL(10, 2),
    actual_price DECIMAL(10, 2),
    discount_percentage VARCHAR(255),
    rating DECIMAL(3, 2),
    rating_count INT,
    about_product TEXT,
    user_id VARCHAR(255),
    user_rating VARCHAR(255),
    review_heading TEXT,
    review_content TEXT,
    img_link TEXT
);

# Load the CSV data (assuming amazon.csv is in a secure directory accessible by MySQL)

Enable local file loading (if disabled)
SHOW VARIABLES LIKE "local_infile";
SET GLOBAL local_infile = 1;
SHOW VARIABLES LIKE "local_infile";


Load the data. Adjust the file path as needed.
LOAD DATA LOCAL INFILE '/path/to/your/amazon.csv' -- Replace with your actual file path
INTO TABLE products
FIELDS TERMINATED BY ','
ENCLOSED BY '"'
LINES TERMINATED BY '\n'
IGNORE 1 ROWS -- Skip the header row
(product_id, product_name, category, @discounted_price, @actual_price, discount_percentage, @rating, @rating_count, about_product, user_id, user_rating, review_heading, review_content, img_link)
SET
discounted_price = NULLIF(@discounted_price, ''),
    actual_price = NULLIF(@actual_price, ''),
    rating = NULLIF(@rating, ''),
    rating_count = NULLIF(@rating_count, '');
    