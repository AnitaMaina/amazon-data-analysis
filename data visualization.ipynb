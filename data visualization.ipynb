import pandas as pd
import matplotlib.pyplot as plt
import seaborn as sns

# Assuming your DataFrame 'df' is already loaded and cleaned

# 1. Bar Chart: Top 10 Highest-Rated Products
top_10_rated = df.nlargest(10, 'rating')

plt.figure(figsize=(12, 6))
sns.barplot(x='product_name', y='rating', data=top_10_rated, palette='viridis')
plt.title('Top 10 Highest-Rated Products')
plt.xlabel('Product Name')
plt.ylabel('Rating')
plt.xticks(rotation=45, ha='right')  # Rotate x-axis labels
plt.tight_layout()
plt.show()

# 2. Scatter Plot: Discount Percentage vs. Rating
plt.figure(figsize=(8, 6))
sns.scatterplot(x='discount_percentage', y='rating', data=df, alpha=0.7, color='skyblue')
plt.title('Scatter Plot: Discount Percentage vs. Rating')
plt.xlabel('Discount Percentage (%)')
plt.ylabel('Rating')
plt.grid(True, linestyle='--', alpha=0.5)
plt.show()

# 3. Pie Chart: Top-Selling Categories (Based on Rating Count)
category_counts = df['category'].value_counts().head(10)  # Top 10 categories
plt.figure(figsize=(10, 8))
plt.pie(category_counts, labels=category_counts.index, autopct='%1.1f%%', startangle=140)
plt.title('Top 10 Selling Product Categories')
plt.axis('equal')  # Equal aspect ratio ensures that pie is drawn as a circle.
plt.show()

# 4. Heatmap: Correlations Between Numerical Columns
numerical_cols = df.select_dtypes(include=['number'])  # Select numerical columns
correlation_matrix = numerical_cols.corr()

plt.figure(figsize=(10, 8))
sns.heatmap(correlation_matrix, annot=True, cmap='coolwarm', linewidths=0.5)
plt.title('Correlation Heatmap of Numerical Columns')
plt.show()
