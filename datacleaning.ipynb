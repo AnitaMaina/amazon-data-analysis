import pandas as pd
import numpy as np

from sqlalchemy import create_engine
try:
    
    df = pd.read_csv("amazon.csv")
except FileNotFoundError:
    print("Error: amazon.csv file not found. Please make sure the file is in the correct directory.")
    exit()  # Stop execution if the file is not found
    

# Database connection details
db_user = "root"
db_password = "COMPLETE2001"
db_host = "localhost"
db_name = "ecommerce_db"

# Create a connection to MySQL
engine = create_engine(f"mysql+pymysql://{db_user}:{db_password}@{db_host}/{db_name}")

# Insert data into MySQL
df.to_sql(name='products', con=engine, if_exists='replace', index=False)

print("Data successfully loaded into MySQL!")


# Assuming 'df' is your DataFrame from the previous step

# 2. Data Cleaning

# Convert price-related columns to numerical format
def clean_price(price_str):
    if isinstance(price_str, str):
        price_str = price_str.replace('₹', '').replace(',', '').strip()
        try:
            return float(price_str)
        except ValueError:
            return np.nan  # Handle cases where conversion fails
    return price_str #if not string, return original value.

if 'discounted_price' in df.columns:
    df['discounted_price'] = df['discounted_price'].apply(clean_price)

if 'actual_price' in df.columns:
    df['actual_price'] = df['actual_price'].apply(clean_price)

# Convert rating_count to integer values
def clean_rating_count(count_str):
    if isinstance(count_str, str):
        count_str = count_str.replace(',', '').strip()
        try:
            return int(count_str)
        except ValueError:
            return np.nan #Handle conversion errors
    return count_str #if not string, return original value.

if 'rating_count' in df.columns:
    df['rating_count'] = df['rating_count'].apply(clean_rating_count)

# Extract relevant product categories from category column
def extract_main_category(category_str):
    if isinstance(category_str, str):
        categories = category_str.split('|')
        if categories:
            return categories[0].strip()  # Extract the first category
    return np.nan

if 'category' in df.columns:
    df['main_category'] = df['category'].apply(extract_main_category)
    print("\nMain categories extracted:")
    print(df['main_category'].value_counts().head())  # Display top categories